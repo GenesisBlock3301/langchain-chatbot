{
 "cells": [
  {
   "cell_type": "code",
   "id": "initial_id",
   "metadata": {
    "collapsed": true,
    "ExecuteTime": {
     "end_time": "2025-08-31T04:35:25.015808Z",
     "start_time": "2025-08-31T04:35:13.554655Z"
    }
   },
   "source": [
    "import getpass\n",
    "import os\n",
    "\n",
    "os.environ[\"LANGSMITH_TRACING\"] = \"true\"\n",
    "if not os.environ.get(\"LANGSMITH_API_KEY\"):\n",
    "    os.environ[\"LANGSMITH_API_KEY\"] = getpass.getpass()\n",
    "\n",
    "if not os.environ.get(\"GOOGLE_API_KEY\"):\n",
    "    os.environ[\"GOOGLE_API_KEY\"] = getpass.getpass(\"Enter API key for Google Gemini: \")\n"
   ],
   "outputs": [],
   "execution_count": 4
  },
  {
   "metadata": {
    "ExecuteTime": {
     "end_time": "2025-08-31T04:35:35.999917Z",
     "start_time": "2025-08-31T04:35:35.974705Z"
    }
   },
   "cell_type": "code",
   "source": [
    "from langchain.chat_models import init_chat_model\n",
    "\n",
    "model = init_chat_model(\"gemini-2.5-flash\", model_provider=\"google_genai\")"
   ],
   "id": "99a2039099109ce8",
   "outputs": [],
   "execution_count": 5
  },
  {
   "metadata": {
    "ExecuteTime": {
     "end_time": "2025-08-31T04:36:17.076506Z",
     "start_time": "2025-08-31T04:36:12.051278Z"
    }
   },
   "cell_type": "code",
   "source": [
    "from langchain_core.messages import HumanMessage\n",
    "\n",
    "# not persistence\n",
    "model.invoke([\n",
    "    HumanMessage(\"Hi, I am bob\"),\n",
    "])\n"
   ],
   "id": "e1881aeea9b1c707",
   "outputs": [
    {
     "data": {
      "text/plain": [
       "AIMessage(content='Hello Bob! Nice to meet you.\\n\\nHow can I help you today?', additional_kwargs={}, response_metadata={'prompt_feedback': {'block_reason': 0, 'safety_ratings': []}, 'finish_reason': 'STOP', 'model_name': 'gemini-2.5-flash', 'safety_ratings': []}, id='run--a5ec6c82-1894-4ac1-9538-ad1df7e9b57d-0', usage_metadata={'input_tokens': 6, 'output_tokens': 485, 'total_tokens': 491, 'input_token_details': {'cache_read': 0}, 'output_token_details': {'reasoning': 469}})"
      ]
     },
     "execution_count": 6,
     "metadata": {},
     "output_type": "execute_result"
    }
   ],
   "execution_count": 6
  },
  {
   "metadata": {
    "ExecuteTime": {
     "end_time": "2025-08-31T04:37:02.245141Z",
     "start_time": "2025-08-31T04:36:59.297466Z"
    }
   },
   "cell_type": "code",
   "source": [
    "model.invoke([\n",
    "    HumanMessage(\"What's my name?\"),\n",
    "])"
   ],
   "id": "1f339d07f8d533dd",
   "outputs": [
    {
     "data": {
      "text/plain": [
       "AIMessage(content=\"As an AI, I don't have access to your personal information, so I don't know your name. You haven't told me yet!\\n\\nIf you'd like to tell me, I'll remember it for our current conversation. 😊\", additional_kwargs={}, response_metadata={'prompt_feedback': {'block_reason': 0, 'safety_ratings': []}, 'finish_reason': 'STOP', 'model_name': 'gemini-2.5-flash', 'safety_ratings': []}, id='run--f645deed-da47-4d40-8eb6-7fc741c8cab5-0', usage_metadata={'input_tokens': 7, 'output_tokens': 428, 'total_tokens': 435, 'input_token_details': {'cache_read': 0}, 'output_token_details': {'reasoning': 375}})"
      ]
     },
     "execution_count": 7,
     "metadata": {},
     "output_type": "execute_result"
    }
   ],
   "execution_count": 7
  },
  {
   "metadata": {
    "ExecuteTime": {
     "end_time": "2025-08-31T04:38:21.911584Z",
     "start_time": "2025-08-31T04:38:20.980850Z"
    }
   },
   "cell_type": "code",
   "source": [
    "from langchain_core.messages import AIMessage\n",
    "\n",
    "model.invoke(\n",
    "    [\n",
    "        HumanMessage(content=\"Hi! I'm Bob\"),\n",
    "        AIMessage(content=\"Hello Bob! How can I assist you today?\"),\n",
    "        HumanMessage(content=\"What's my name?\"),\n",
    "    ]\n",
    ")"
   ],
   "id": "3cf8542b4b89bef6",
   "outputs": [
    {
     "data": {
      "text/plain": [
       "AIMessage(content='Your name is Bob.', additional_kwargs={}, response_metadata={'prompt_feedback': {'block_reason': 0, 'safety_ratings': []}, 'finish_reason': 'STOP', 'model_name': 'gemini-2.5-flash', 'safety_ratings': []}, id='run--220512db-04a4-4b84-abf0-edf66650fadf-0', usage_metadata={'input_tokens': 25, 'output_tokens': 26, 'total_tokens': 51, 'input_token_details': {'cache_read': 0}, 'output_token_details': {'reasoning': 21}})"
      ]
     },
     "execution_count": 8,
     "metadata": {},
     "output_type": "execute_result"
    }
   ],
   "execution_count": 8
  },
  {
   "metadata": {},
   "cell_type": "markdown",
   "source": [
    "# Message Persistence\n",
    "LangGraph implements a built-in persistence layer, making it ideal for chat applications that support multiple conversational turns.\n",
    "\n",
    "Wrapping our chat model in a minimal LangGraph application allows us to automatically persist the message history, simplifying the development of multi-turn applications.\n",
    "\n",
    "LangGraph comes with a simple in-memory checkpointer, which we use below. See its documentation for more detail, including how to use different persistence backends (e.g., SQLite or Postgres)."
   ],
   "id": "7efb03cacc68545d"
  },
  {
   "metadata": {
    "ExecuteTime": {
     "end_time": "2025-08-31T05:22:55.672921Z",
     "start_time": "2025-08-31T05:22:55.560151Z"
    }
   },
   "cell_type": "code",
   "source": [
    "from langgraph.checkpoint.memory import MemorySaver\n",
    "from langgraph.graph import START, MessagesState, StateGraph\n",
    "\n",
    "# workflow define\n",
    "workflow = StateGraph(state_schema=MessagesState)\n",
    "\n",
    "\n",
    "# Define the function that calls the modal\n",
    "def call_model(state: MessagesState):\n",
    "    response = model.invoke(state['messages'])\n",
    "    return {'messages': response}\n",
    "\n",
    "\n",
    "workflow.add_edge(START, \"model\")\n",
    "workflow.add_node('model', call_model)\n",
    "\n",
    "memory = MemorySaver()\n",
    "app = workflow.compile(checkpointer=memory)\n",
    "\n",
    "config = {'configurable': {\"thread_id\": \"abc123\"}}"
   ],
   "id": "25e6b9e7d68b06ee",
   "outputs": [],
   "execution_count": 9
  },
  {
   "metadata": {
    "ExecuteTime": {
     "end_time": "2025-08-31T05:24:46.487905Z",
     "start_time": "2025-08-31T05:24:40.491292Z"
    }
   },
   "cell_type": "code",
   "source": [
    "query = \"Hi, I'm Bob\"\n",
    "input_messages = [HumanMessage(content=query)]\n",
    "output = app.invoke({\"messages\": input_messages}, config)\n",
    "output[\"messages\"][-1].pretty_print()"
   ],
   "id": "60d22e029f27399a",
   "outputs": [
    {
     "name": "stdout",
     "output_type": "stream",
     "text": [
      "==================================\u001B[1m Ai Message \u001B[0m==================================\n",
      "\n",
      "Hello again, Bob! Yes, I definitely remember you're Bob. No need to introduce yourself again – I've got it locked in!\n",
      "\n",
      "What can I help you with today?\n"
     ]
    }
   ],
   "execution_count": 12
  },
  {
   "metadata": {
    "ExecuteTime": {
     "end_time": "2025-08-31T05:26:55.269157Z",
     "start_time": "2025-08-31T05:26:55.262250Z"
    }
   },
   "cell_type": "code",
   "source": "memory.__dict__",
   "id": "9b2f1eb4e1541bea",
   "outputs": [
    {
     "data": {
      "text/plain": [
       "{'serde': <langgraph.checkpoint.serde.jsonplus.JsonPlusSerializer at 0x7440402da6f0>,\n",
       " 'storage': defaultdict(<function langgraph.checkpoint.memory.InMemorySaver.__init__.<locals>.<lambda>()>,\n",
       "             {'abc123': defaultdict(dict,\n",
       "                          {'': {'1f0862aa-dcb5-68fc-bfff-558dd27d9e10': (('msgpack',\n",
       "                              b'\\x86\\xa1v\\x04\\xa2ts\\xd9 2025-08-31T05:23:51.101867+00:00\\xa2id\\xd9$1f0862aa-dcb5-68fc-bfff-558dd27d9e10\\xb0channel_versions\\x81\\xa9__start__\\xd9400000000000000000000000000000001.0.29217707685063965\\xadversions_seen\\x81\\xa9__input__\\x80\\xb0updated_channels\\x91\\xa9__start__'),\n",
       "                             ('msgpack',\n",
       "                              b'\\x83\\xa6source\\xa5input\\xa4step\\xff\\xa7parents\\x80'),\n",
       "                             None),\n",
       "                            '1f0862aa-dcb7-6bca-8000-6783dcce4c80': (('msgpack',\n",
       "                              b'\\x86\\xa1v\\x04\\xa2ts\\xd9 2025-08-31T05:23:51.102757+00:00\\xa2id\\xd9$1f0862aa-dcb7-6bca-8000-6783dcce4c80\\xb0channel_versions\\x83\\xa9__start__\\xd9400000000000000000000000000000002.0.32583283948694464\\xa8messages\\xd9400000000000000000000000000000002.0.32583283948694464\\xafbranch:to:model\\xd9400000000000000000000000000000002.0.32583283948694464\\xadversions_seen\\x82\\xa9__input__\\x80\\xa9__start__\\x81\\xa9__start__\\xd9400000000000000000000000000000001.0.29217707685063965\\xb0updated_channels\\x92\\xafbranch:to:model\\xa8messages'),\n",
       "                             ('msgpack',\n",
       "                              b'\\x83\\xa6source\\xa4loop\\xa4step\\x00\\xa7parents\\x80'),\n",
       "                             '1f0862aa-dcb5-68fc-bfff-558dd27d9e10'),\n",
       "                            '1f0862ab-048a-6937-8001-40d190a434cd': (('msgpack',\n",
       "                              b'\\x86\\xa1v\\x04\\xa2ts\\xd9 2025-08-31T05:23:55.278562+00:00\\xa2id\\xd9$1f0862ab-048a-6937-8001-40d190a434cd\\xb0channel_versions\\x83\\xa9__start__\\xd9400000000000000000000000000000002.0.32583283948694464\\xa8messages\\xd9300000000000000000000000000000003.0.7247814962256095\\xafbranch:to:model\\xd9300000000000000000000000000000003.0.7247814962256095\\xadversions_seen\\x83\\xa9__input__\\x80\\xa9__start__\\x81\\xa9__start__\\xd9400000000000000000000000000000001.0.29217707685063965\\xa5model\\x81\\xafbranch:to:model\\xd9400000000000000000000000000000002.0.32583283948694464\\xb0updated_channels\\x91\\xa8messages'),\n",
       "                             ('msgpack',\n",
       "                              b'\\x83\\xa6source\\xa4loop\\xa4step\\x01\\xa7parents\\x80'),\n",
       "                             '1f0862aa-dcb7-6bca-8000-6783dcce4c80'),\n",
       "                            '1f0862ac-3f93-61f8-8002-a7e0a22f099f': (('msgpack',\n",
       "                              b'\\x86\\xa1v\\x04\\xa2ts\\xd9 2025-08-31T05:24:28.312208+00:00\\xa2id\\xd9$1f0862ac-3f93-61f8-8002-a7e0a22f099f\\xb0channel_versions\\x83\\xa9__start__\\xd9400000000000000000000000000000004.0.23099051007203364\\xa8messages\\xd9300000000000000000000000000000003.0.7247814962256095\\xafbranch:to:model\\xd9300000000000000000000000000000003.0.7247814962256095\\xadversions_seen\\x83\\xa9__input__\\x80\\xa9__start__\\x81\\xa9__start__\\xd9400000000000000000000000000000001.0.29217707685063965\\xa5model\\x81\\xafbranch:to:model\\xd9400000000000000000000000000000002.0.32583283948694464\\xb0updated_channels\\x91\\xa9__start__'),\n",
       "                             ('msgpack',\n",
       "                              b'\\x83\\xa6source\\xa5input\\xa4step\\x02\\xa7parents\\x80'),\n",
       "                             '1f0862ab-048a-6937-8001-40d190a434cd'),\n",
       "                            '1f0862ac-3f94-69e3-8003-36f5a44325ea': (('msgpack',\n",
       "                              b'\\x86\\xa1v\\x04\\xa2ts\\xd9 2025-08-31T05:24:28.312821+00:00\\xa2id\\xd9$1f0862ac-3f94-69e3-8003-36f5a44325ea\\xb0channel_versions\\x83\\xa9__start__\\xd9300000000000000000000000000000005.0.7883209478212173\\xa8messages\\xd9300000000000000000000000000000005.0.7883209478212173\\xafbranch:to:model\\xd9300000000000000000000000000000005.0.7883209478212173\\xadversions_seen\\x83\\xa9__input__\\x80\\xa9__start__\\x81\\xa9__start__\\xd9400000000000000000000000000000004.0.23099051007203364\\xa5model\\x81\\xafbranch:to:model\\xd9400000000000000000000000000000002.0.32583283948694464\\xb0updated_channels\\x92\\xafbranch:to:model\\xa8messages'),\n",
       "                             ('msgpack',\n",
       "                              b'\\x83\\xa6source\\xa4loop\\xa4step\\x03\\xa7parents\\x80'),\n",
       "                             '1f0862ac-3f93-61f8-8002-a7e0a22f099f'),\n",
       "                            '1f0862ac-6045-6a71-8004-211fd0038210': (('msgpack',\n",
       "                              b'\\x86\\xa1v\\x04\\xa2ts\\xd9 2025-08-31T05:24:31.740775+00:00\\xa2id\\xd9$1f0862ac-6045-6a71-8004-211fd0038210\\xb0channel_versions\\x83\\xa9__start__\\xd9300000000000000000000000000000005.0.7883209478212173\\xa8messages\\xd9200000000000000000000000000000006.0.541173672183235\\xafbranch:to:model\\xd9200000000000000000000000000000006.0.541173672183235\\xadversions_seen\\x83\\xa9__input__\\x80\\xa9__start__\\x81\\xa9__start__\\xd9400000000000000000000000000000004.0.23099051007203364\\xa5model\\x81\\xafbranch:to:model\\xd9300000000000000000000000000000005.0.7883209478212173\\xb0updated_channels\\x91\\xa8messages'),\n",
       "                             ('msgpack',\n",
       "                              b'\\x83\\xa6source\\xa4loop\\xa4step\\x04\\xa7parents\\x80'),\n",
       "                             '1f0862ac-3f94-69e3-8003-36f5a44325ea'),\n",
       "                            '1f0862ac-b3c1-630c-8005-7b5332c9fdd6': (('msgpack',\n",
       "                              b'\\x86\\xa1v\\x04\\xa2ts\\xd9 2025-08-31T05:24:40.494554+00:00\\xa2id\\xd9$1f0862ac-b3c1-630c-8005-7b5332c9fdd6\\xb0channel_versions\\x83\\xa9__start__\\xd9300000000000000000000000000000007.0.7621757326236214\\xa8messages\\xd9200000000000000000000000000000006.0.541173672183235\\xafbranch:to:model\\xd9200000000000000000000000000000006.0.541173672183235\\xadversions_seen\\x83\\xa9__input__\\x80\\xa9__start__\\x81\\xa9__start__\\xd9400000000000000000000000000000004.0.23099051007203364\\xa5model\\x81\\xafbranch:to:model\\xd9300000000000000000000000000000005.0.7883209478212173\\xb0updated_channels\\x91\\xa9__start__'),\n",
       "                             ('msgpack',\n",
       "                              b'\\x83\\xa6source\\xa5input\\xa4step\\x05\\xa7parents\\x80'),\n",
       "                             '1f0862ac-6045-6a71-8004-211fd0038210'),\n",
       "                            '1f0862ac-b3c4-6170-8006-d335b975b3a2': (('msgpack',\n",
       "                              b'\\x86\\xa1v\\x04\\xa2ts\\xd9 2025-08-31T05:24:40.495744+00:00\\xa2id\\xd9$1f0862ac-b3c4-6170-8006-d335b975b3a2\\xb0channel_versions\\x83\\xa9__start__\\xd9400000000000000000000000000000008.0.30347969497210947\\xa8messages\\xd9400000000000000000000000000000008.0.30347969497210947\\xafbranch:to:model\\xd9400000000000000000000000000000008.0.30347969497210947\\xadversions_seen\\x83\\xa9__input__\\x80\\xa9__start__\\x81\\xa9__start__\\xd9300000000000000000000000000000007.0.7621757326236214\\xa5model\\x81\\xafbranch:to:model\\xd9300000000000000000000000000000005.0.7883209478212173\\xb0updated_channels\\x92\\xafbranch:to:model\\xa8messages'),\n",
       "                             ('msgpack',\n",
       "                              b'\\x83\\xa6source\\xa4loop\\xa4step\\x06\\xa7parents\\x80'),\n",
       "                             '1f0862ac-b3c1-630c-8005-7b5332c9fdd6'),\n",
       "                            '1f0862ac-ece1-6f1f-8007-7ddd22443736': (('msgpack',\n",
       "                              b'\\x86\\xa1v\\x04\\xa2ts\\xd9 2025-08-31T05:24:46.484857+00:00\\xa2id\\xd9$1f0862ac-ece1-6f1f-8007-7ddd22443736\\xb0channel_versions\\x83\\xa9__start__\\xd9400000000000000000000000000000008.0.30347969497210947\\xa8messages\\xd9300000000000000000000000000000009.0.9098676793409908\\xafbranch:to:model\\xd9300000000000000000000000000000009.0.9098676793409908\\xadversions_seen\\x83\\xa9__input__\\x80\\xa9__start__\\x81\\xa9__start__\\xd9300000000000000000000000000000007.0.7621757326236214\\xa5model\\x81\\xafbranch:to:model\\xd9400000000000000000000000000000008.0.30347969497210947\\xb0updated_channels\\x91\\xa8messages'),\n",
       "                             ('msgpack',\n",
       "                              b'\\x83\\xa6source\\xa4loop\\xa4step\\x07\\xa7parents\\x80'),\n",
       "                             '1f0862ac-b3c4-6170-8006-d335b975b3a2')}})}),\n",
       " 'writes': defaultdict(dict,\n",
       "             {('abc123',\n",
       "               '',\n",
       "               '1f0862aa-dcb5-68fc-bfff-558dd27d9e10'): {('593f1d8e-d7b8-0ff8-28d9-10e39b711b6f',\n",
       "                0): ('593f1d8e-d7b8-0ff8-28d9-10e39b711b6f',\n",
       "                'messages',\n",
       "                ('msgpack',\n",
       "                 b\"\\x91\\xc7\\xbe\\x05\\x94\\xbdlangchain_core.messages.human\\xacHumanMessage\\x87\\xa7content\\xabHi, I'm Bob\\xb1additional_kwargs\\x80\\xb1response_metadata\\x80\\xa4type\\xa5human\\xa4name\\xc0\\xa2id\\xd9$7b39ccac-9537-49d4-b5a1-c6d4946e88ea\\xa7example\\xc2\\xb3model_validate_json\"),\n",
       "                '~__pregel_pull, __start__'), ('593f1d8e-d7b8-0ff8-28d9-10e39b711b6f',\n",
       "                1): ('593f1d8e-d7b8-0ff8-28d9-10e39b711b6f',\n",
       "                'branch:to:model',\n",
       "                ('null', b''),\n",
       "                '~__pregel_pull, __start__')},\n",
       "              ('abc123',\n",
       "               '',\n",
       "               '1f0862aa-dcb7-6bca-8000-6783dcce4c80'): {('e0c485e4-162a-6206-edc4-b4927b8c57b5',\n",
       "                0): ('e0c485e4-162a-6206-edc4-b4927b8c57b5',\n",
       "                'messages',\n",
       "                ('msgpack',\n",
       "                 b\"\\xc8\\x029\\x05\\x94\\xbalangchain_core.messages.ai\\xa9AIMessage\\x8a\\xa7content\\xd9vHi Bob! It's great to meet you.\\n\\nI'm an AI assistant, ready to help with whatever you need. What's on your mind today?\\xb1additional_kwargs\\x80\\xb1response_metadata\\x84\\xafprompt_feedback\\x82\\xacblock_reason\\x00\\xaesafety_ratings\\x90\\xadfinish_reason\\xa4STOP\\xaamodel_name\\xb0gemini-2.5-flash\\xaesafety_ratings\\x90\\xa4type\\xa2ai\\xa4name\\xc0\\xa2id\\xd9+run--d3917321-c0cb-4306-8ce4-b7c0f26d70c8-0\\xa7example\\xc2\\xaatool_calls\\x90\\xb2invalid_tool_calls\\x90\\xaeusage_metadata\\x85\\xacinput_tokens\\x07\\xadoutput_tokens\\xcd\\x02U\\xactotal_tokens\\xcd\\x02\\\\\\xb3input_token_details\\x81\\xaacache_read\\x00\\xb4output_token_details\\x81\\xa9reasoning\\xcd\\x022\\xb3model_validate_json\"),\n",
       "                '~__pregel_pull, model')},\n",
       "              ('abc123', '', '1f0862ab-048a-6937-8001-40d190a434cd'): {},\n",
       "              ('abc123',\n",
       "               '',\n",
       "               '1f0862ac-3f93-61f8-8002-a7e0a22f099f'): {('f8bde396-57e5-2d5e-2e4b-adccfb7f580d',\n",
       "                0): ('f8bde396-57e5-2d5e-2e4b-adccfb7f580d',\n",
       "                'messages',\n",
       "                ('msgpack',\n",
       "                 b\"\\x91\\xc7\\xbe\\x05\\x94\\xbdlangchain_core.messages.human\\xacHumanMessage\\x87\\xa7content\\xabHi, I'm Bob\\xb1additional_kwargs\\x80\\xb1response_metadata\\x80\\xa4type\\xa5human\\xa4name\\xc0\\xa2id\\xd9$79b97962-6080-4536-ae68-8f4e2b59f276\\xa7example\\xc2\\xb3model_validate_json\"),\n",
       "                '~__pregel_pull, __start__'), ('f8bde396-57e5-2d5e-2e4b-adccfb7f580d',\n",
       "                1): ('f8bde396-57e5-2d5e-2e4b-adccfb7f580d',\n",
       "                'branch:to:model',\n",
       "                ('null', b''),\n",
       "                '~__pregel_pull, __start__')},\n",
       "              ('abc123',\n",
       "               '',\n",
       "               '1f0862ac-3f94-69e3-8003-36f5a44325ea'): {('cb77e09e-c78d-c039-1e6b-e52acdf1d5bc',\n",
       "                0): ('cb77e09e-c78d-c039-1e6b-e52acdf1d5bc',\n",
       "                'messages',\n",
       "                ('msgpack',\n",
       "                 b\"\\xc8\\x02?\\x05\\x94\\xbalangchain_core.messages.ai\\xa9AIMessage\\x8a\\xa7content\\xd9|Hi Bob! Yes, you just introduced yourself. It's good to 'talk' to you again!\\n\\nWhat's on your mind? How can I help you today?\\xb1additional_kwargs\\x80\\xb1response_metadata\\x84\\xafprompt_feedback\\x82\\xacblock_reason\\x00\\xaesafety_ratings\\x90\\xadfinish_reason\\xa4STOP\\xaamodel_name\\xb0gemini-2.5-flash\\xaesafety_ratings\\x90\\xa4type\\xa2ai\\xa4name\\xc0\\xa2id\\xd9+run--5b43961d-c6bc-4489-a270-f7cbb509bd77-0\\xa7example\\xc2\\xaatool_calls\\x90\\xb2invalid_tool_calls\\x90\\xaeusage_metadata\\x85\\xacinput_tokens2\\xadoutput_tokens\\xcd\\x02\\x13\\xactotal_tokens\\xcd\\x02E\\xb3input_token_details\\x81\\xaacache_read\\x00\\xb4output_token_details\\x81\\xa9reasoning\\xcd\\x01\\xee\\xb3model_validate_json\"),\n",
       "                '~__pregel_pull, model')},\n",
       "              ('abc123', '', '1f0862ac-6045-6a71-8004-211fd0038210'): {},\n",
       "              ('abc123',\n",
       "               '',\n",
       "               '1f0862ac-b3c1-630c-8005-7b5332c9fdd6'): {('534c096d-5c20-46df-ff5a-8bb0fa970768',\n",
       "                0): ('534c096d-5c20-46df-ff5a-8bb0fa970768',\n",
       "                'messages',\n",
       "                ('msgpack',\n",
       "                 b\"\\x91\\xc7\\xbe\\x05\\x94\\xbdlangchain_core.messages.human\\xacHumanMessage\\x87\\xa7content\\xabHi, I'm Bob\\xb1additional_kwargs\\x80\\xb1response_metadata\\x80\\xa4type\\xa5human\\xa4name\\xc0\\xa2id\\xd9$70d44e66-9d2a-4f95-ad47-29dafc42ed39\\xa7example\\xc2\\xb3model_validate_json\"),\n",
       "                '~__pregel_pull, __start__'), ('534c096d-5c20-46df-ff5a-8bb0fa970768',\n",
       "                1): ('534c096d-5c20-46df-ff5a-8bb0fa970768',\n",
       "                'branch:to:model',\n",
       "                ('null', b''),\n",
       "                '~__pregel_pull, __start__')},\n",
       "              ('abc123',\n",
       "               '',\n",
       "               '1f0862ac-b3c4-6170-8006-d335b975b3a2'): {('72d9af60-8c80-5055-05b0-d90c58fd195b',\n",
       "                0): ('72d9af60-8c80-5055-05b0-d90c58fd195b',\n",
       "                'messages',\n",
       "                ('msgpack',\n",
       "                 b\"\\xc8\\x02[\\x05\\x94\\xbalangchain_core.messages.ai\\xa9AIMessage\\x8a\\xa7content\\xd9\\x98Hello again, Bob! Yes, I definitely remember you're Bob. No need to introduce yourself again \\xe2\\x80\\x93 I've got it locked in!\\n\\nWhat can I help you with today?\\xb1additional_kwargs\\x80\\xb1response_metadata\\x84\\xafprompt_feedback\\x82\\xacblock_reason\\x00\\xaesafety_ratings\\x90\\xadfinish_reason\\xa4STOP\\xaamodel_name\\xb0gemini-2.5-flash\\xaesafety_ratings\\x90\\xa4type\\xa2ai\\xa4name\\xc0\\xa2id\\xd9+run--49746c4f-e41d-4bf9-a9da-9073c9a1893e-0\\xa7example\\xc2\\xaatool_calls\\x90\\xb2invalid_tool_calls\\x90\\xaeusage_metadata\\x85\\xacinput_tokens_\\xadoutput_tokens\\xcd\\x03\\xcf\\xactotal_tokens\\xcd\\x04.\\xb3input_token_details\\x81\\xaacache_read\\x00\\xb4output_token_details\\x81\\xa9reasoning\\xcd\\x03\\xa8\\xb3model_validate_json\"),\n",
       "                '~__pregel_pull, model')}}),\n",
       " 'blobs': defaultdict(None,\n",
       "             {('abc123',\n",
       "               '',\n",
       "               '__start__',\n",
       "               '00000000000000000000000000000001.0.29217707685063965'): ('msgpack',\n",
       "               b\"\\x81\\xa8messages\\x91\\xc7\\x99\\x05\\x94\\xbdlangchain_core.messages.human\\xacHumanMessage\\x87\\xa7content\\xabHi, I'm Bob\\xb1additional_kwargs\\x80\\xb1response_metadata\\x80\\xa4type\\xa5human\\xa4name\\xc0\\xa2id\\xc0\\xa7example\\xc2\\xb3model_validate_json\"),\n",
       "              ('abc123',\n",
       "               '',\n",
       "               '__start__',\n",
       "               '00000000000000000000000000000002.0.32583283948694464'): ('empty',\n",
       "               b''),\n",
       "              ('abc123',\n",
       "               '',\n",
       "               'messages',\n",
       "               '00000000000000000000000000000002.0.32583283948694464'): ('msgpack',\n",
       "               b\"\\x91\\xc7\\xbe\\x05\\x94\\xbdlangchain_core.messages.human\\xacHumanMessage\\x87\\xa7content\\xabHi, I'm Bob\\xb1additional_kwargs\\x80\\xb1response_metadata\\x80\\xa4type\\xa5human\\xa4name\\xc0\\xa2id\\xd9$7b39ccac-9537-49d4-b5a1-c6d4946e88ea\\xa7example\\xc2\\xb3model_validate_json\"),\n",
       "              ('abc123',\n",
       "               '',\n",
       "               'branch:to:model',\n",
       "               '00000000000000000000000000000002.0.32583283948694464'): ('null',\n",
       "               b''),\n",
       "              ('abc123',\n",
       "               '',\n",
       "               'messages',\n",
       "               '00000000000000000000000000000003.0.7247814962256095'): ('msgpack',\n",
       "               b\"\\x92\\xc7\\xbe\\x05\\x94\\xbdlangchain_core.messages.human\\xacHumanMessage\\x87\\xa7content\\xabHi, I'm Bob\\xb1additional_kwargs\\x80\\xb1response_metadata\\x80\\xa4type\\xa5human\\xa4name\\xc0\\xa2id\\xd9$7b39ccac-9537-49d4-b5a1-c6d4946e88ea\\xa7example\\xc2\\xb3model_validate_json\\xc8\\x029\\x05\\x94\\xbalangchain_core.messages.ai\\xa9AIMessage\\x8a\\xa7content\\xd9vHi Bob! It's great to meet you.\\n\\nI'm an AI assistant, ready to help with whatever you need. What's on your mind today?\\xb1additional_kwargs\\x80\\xb1response_metadata\\x84\\xafprompt_feedback\\x82\\xacblock_reason\\x00\\xaesafety_ratings\\x90\\xadfinish_reason\\xa4STOP\\xaamodel_name\\xb0gemini-2.5-flash\\xaesafety_ratings\\x90\\xa4type\\xa2ai\\xa4name\\xc0\\xa2id\\xd9+run--d3917321-c0cb-4306-8ce4-b7c0f26d70c8-0\\xa7example\\xc2\\xaatool_calls\\x90\\xb2invalid_tool_calls\\x90\\xaeusage_metadata\\x85\\xacinput_tokens\\x07\\xadoutput_tokens\\xcd\\x02U\\xactotal_tokens\\xcd\\x02\\\\\\xb3input_token_details\\x81\\xaacache_read\\x00\\xb4output_token_details\\x81\\xa9reasoning\\xcd\\x022\\xb3model_validate_json\"),\n",
       "              ('abc123',\n",
       "               '',\n",
       "               'branch:to:model',\n",
       "               '00000000000000000000000000000003.0.7247814962256095'): ('empty',\n",
       "               b''),\n",
       "              ('abc123',\n",
       "               '',\n",
       "               '__start__',\n",
       "               '00000000000000000000000000000004.0.23099051007203364'): ('msgpack',\n",
       "               b\"\\x81\\xa8messages\\x91\\xc7\\x99\\x05\\x94\\xbdlangchain_core.messages.human\\xacHumanMessage\\x87\\xa7content\\xabHi, I'm Bob\\xb1additional_kwargs\\x80\\xb1response_metadata\\x80\\xa4type\\xa5human\\xa4name\\xc0\\xa2id\\xc0\\xa7example\\xc2\\xb3model_validate_json\"),\n",
       "              ('abc123',\n",
       "               '',\n",
       "               '__start__',\n",
       "               '00000000000000000000000000000005.0.7883209478212173'): ('empty',\n",
       "               b''),\n",
       "              ('abc123',\n",
       "               '',\n",
       "               'messages',\n",
       "               '00000000000000000000000000000005.0.7883209478212173'): ('msgpack',\n",
       "               b\"\\x93\\xc7\\xbe\\x05\\x94\\xbdlangchain_core.messages.human\\xacHumanMessage\\x87\\xa7content\\xabHi, I'm Bob\\xb1additional_kwargs\\x80\\xb1response_metadata\\x80\\xa4type\\xa5human\\xa4name\\xc0\\xa2id\\xd9$7b39ccac-9537-49d4-b5a1-c6d4946e88ea\\xa7example\\xc2\\xb3model_validate_json\\xc8\\x029\\x05\\x94\\xbalangchain_core.messages.ai\\xa9AIMessage\\x8a\\xa7content\\xd9vHi Bob! It's great to meet you.\\n\\nI'm an AI assistant, ready to help with whatever you need. What's on your mind today?\\xb1additional_kwargs\\x80\\xb1response_metadata\\x84\\xafprompt_feedback\\x82\\xacblock_reason\\x00\\xaesafety_ratings\\x90\\xadfinish_reason\\xa4STOP\\xaamodel_name\\xb0gemini-2.5-flash\\xaesafety_ratings\\x90\\xa4type\\xa2ai\\xa4name\\xc0\\xa2id\\xd9+run--d3917321-c0cb-4306-8ce4-b7c0f26d70c8-0\\xa7example\\xc2\\xaatool_calls\\x90\\xb2invalid_tool_calls\\x90\\xaeusage_metadata\\x85\\xacinput_tokens\\x07\\xadoutput_tokens\\xcd\\x02U\\xactotal_tokens\\xcd\\x02\\\\\\xb3input_token_details\\x81\\xaacache_read\\x00\\xb4output_token_details\\x81\\xa9reasoning\\xcd\\x022\\xb3model_validate_json\\xc7\\xbe\\x05\\x94\\xbdlangchain_core.messages.human\\xacHumanMessage\\x87\\xa7content\\xabHi, I'm Bob\\xb1additional_kwargs\\x80\\xb1response_metadata\\x80\\xa4type\\xa5human\\xa4name\\xc0\\xa2id\\xd9$79b97962-6080-4536-ae68-8f4e2b59f276\\xa7example\\xc2\\xb3model_validate_json\"),\n",
       "              ('abc123',\n",
       "               '',\n",
       "               'branch:to:model',\n",
       "               '00000000000000000000000000000005.0.7883209478212173'): ('null',\n",
       "               b''),\n",
       "              ('abc123',\n",
       "               '',\n",
       "               'messages',\n",
       "               '00000000000000000000000000000006.0.541173672183235'): ('msgpack',\n",
       "               b\"\\x94\\xc7\\xbe\\x05\\x94\\xbdlangchain_core.messages.human\\xacHumanMessage\\x87\\xa7content\\xabHi, I'm Bob\\xb1additional_kwargs\\x80\\xb1response_metadata\\x80\\xa4type\\xa5human\\xa4name\\xc0\\xa2id\\xd9$7b39ccac-9537-49d4-b5a1-c6d4946e88ea\\xa7example\\xc2\\xb3model_validate_json\\xc8\\x029\\x05\\x94\\xbalangchain_core.messages.ai\\xa9AIMessage\\x8a\\xa7content\\xd9vHi Bob! It's great to meet you.\\n\\nI'm an AI assistant, ready to help with whatever you need. What's on your mind today?\\xb1additional_kwargs\\x80\\xb1response_metadata\\x84\\xafprompt_feedback\\x82\\xacblock_reason\\x00\\xaesafety_ratings\\x90\\xadfinish_reason\\xa4STOP\\xaamodel_name\\xb0gemini-2.5-flash\\xaesafety_ratings\\x90\\xa4type\\xa2ai\\xa4name\\xc0\\xa2id\\xd9+run--d3917321-c0cb-4306-8ce4-b7c0f26d70c8-0\\xa7example\\xc2\\xaatool_calls\\x90\\xb2invalid_tool_calls\\x90\\xaeusage_metadata\\x85\\xacinput_tokens\\x07\\xadoutput_tokens\\xcd\\x02U\\xactotal_tokens\\xcd\\x02\\\\\\xb3input_token_details\\x81\\xaacache_read\\x00\\xb4output_token_details\\x81\\xa9reasoning\\xcd\\x022\\xb3model_validate_json\\xc7\\xbe\\x05\\x94\\xbdlangchain_core.messages.human\\xacHumanMessage\\x87\\xa7content\\xabHi, I'm Bob\\xb1additional_kwargs\\x80\\xb1response_metadata\\x80\\xa4type\\xa5human\\xa4name\\xc0\\xa2id\\xd9$79b97962-6080-4536-ae68-8f4e2b59f276\\xa7example\\xc2\\xb3model_validate_json\\xc8\\x02?\\x05\\x94\\xbalangchain_core.messages.ai\\xa9AIMessage\\x8a\\xa7content\\xd9|Hi Bob! Yes, you just introduced yourself. It's good to 'talk' to you again!\\n\\nWhat's on your mind? How can I help you today?\\xb1additional_kwargs\\x80\\xb1response_metadata\\x84\\xafprompt_feedback\\x82\\xacblock_reason\\x00\\xaesafety_ratings\\x90\\xadfinish_reason\\xa4STOP\\xaamodel_name\\xb0gemini-2.5-flash\\xaesafety_ratings\\x90\\xa4type\\xa2ai\\xa4name\\xc0\\xa2id\\xd9+run--5b43961d-c6bc-4489-a270-f7cbb509bd77-0\\xa7example\\xc2\\xaatool_calls\\x90\\xb2invalid_tool_calls\\x90\\xaeusage_metadata\\x85\\xacinput_tokens2\\xadoutput_tokens\\xcd\\x02\\x13\\xactotal_tokens\\xcd\\x02E\\xb3input_token_details\\x81\\xaacache_read\\x00\\xb4output_token_details\\x81\\xa9reasoning\\xcd\\x01\\xee\\xb3model_validate_json\"),\n",
       "              ('abc123',\n",
       "               '',\n",
       "               'branch:to:model',\n",
       "               '00000000000000000000000000000006.0.541173672183235'): ('empty',\n",
       "               b''),\n",
       "              ('abc123',\n",
       "               '',\n",
       "               '__start__',\n",
       "               '00000000000000000000000000000007.0.7621757326236214'): ('msgpack',\n",
       "               b\"\\x81\\xa8messages\\x91\\xc7\\x99\\x05\\x94\\xbdlangchain_core.messages.human\\xacHumanMessage\\x87\\xa7content\\xabHi, I'm Bob\\xb1additional_kwargs\\x80\\xb1response_metadata\\x80\\xa4type\\xa5human\\xa4name\\xc0\\xa2id\\xc0\\xa7example\\xc2\\xb3model_validate_json\"),\n",
       "              ('abc123',\n",
       "               '',\n",
       "               '__start__',\n",
       "               '00000000000000000000000000000008.0.30347969497210947'): ('empty',\n",
       "               b''),\n",
       "              ('abc123',\n",
       "               '',\n",
       "               'messages',\n",
       "               '00000000000000000000000000000008.0.30347969497210947'): ('msgpack',\n",
       "               b\"\\x95\\xc7\\xbe\\x05\\x94\\xbdlangchain_core.messages.human\\xacHumanMessage\\x87\\xa7content\\xabHi, I'm Bob\\xb1additional_kwargs\\x80\\xb1response_metadata\\x80\\xa4type\\xa5human\\xa4name\\xc0\\xa2id\\xd9$7b39ccac-9537-49d4-b5a1-c6d4946e88ea\\xa7example\\xc2\\xb3model_validate_json\\xc8\\x029\\x05\\x94\\xbalangchain_core.messages.ai\\xa9AIMessage\\x8a\\xa7content\\xd9vHi Bob! It's great to meet you.\\n\\nI'm an AI assistant, ready to help with whatever you need. What's on your mind today?\\xb1additional_kwargs\\x80\\xb1response_metadata\\x84\\xafprompt_feedback\\x82\\xacblock_reason\\x00\\xaesafety_ratings\\x90\\xadfinish_reason\\xa4STOP\\xaamodel_name\\xb0gemini-2.5-flash\\xaesafety_ratings\\x90\\xa4type\\xa2ai\\xa4name\\xc0\\xa2id\\xd9+run--d3917321-c0cb-4306-8ce4-b7c0f26d70c8-0\\xa7example\\xc2\\xaatool_calls\\x90\\xb2invalid_tool_calls\\x90\\xaeusage_metadata\\x85\\xacinput_tokens\\x07\\xadoutput_tokens\\xcd\\x02U\\xactotal_tokens\\xcd\\x02\\\\\\xb3input_token_details\\x81\\xaacache_read\\x00\\xb4output_token_details\\x81\\xa9reasoning\\xcd\\x022\\xb3model_validate_json\\xc7\\xbe\\x05\\x94\\xbdlangchain_core.messages.human\\xacHumanMessage\\x87\\xa7content\\xabHi, I'm Bob\\xb1additional_kwargs\\x80\\xb1response_metadata\\x80\\xa4type\\xa5human\\xa4name\\xc0\\xa2id\\xd9$79b97962-6080-4536-ae68-8f4e2b59f276\\xa7example\\xc2\\xb3model_validate_json\\xc8\\x02?\\x05\\x94\\xbalangchain_core.messages.ai\\xa9AIMessage\\x8a\\xa7content\\xd9|Hi Bob! Yes, you just introduced yourself. It's good to 'talk' to you again!\\n\\nWhat's on your mind? How can I help you today?\\xb1additional_kwargs\\x80\\xb1response_metadata\\x84\\xafprompt_feedback\\x82\\xacblock_reason\\x00\\xaesafety_ratings\\x90\\xadfinish_reason\\xa4STOP\\xaamodel_name\\xb0gemini-2.5-flash\\xaesafety_ratings\\x90\\xa4type\\xa2ai\\xa4name\\xc0\\xa2id\\xd9+run--5b43961d-c6bc-4489-a270-f7cbb509bd77-0\\xa7example\\xc2\\xaatool_calls\\x90\\xb2invalid_tool_calls\\x90\\xaeusage_metadata\\x85\\xacinput_tokens2\\xadoutput_tokens\\xcd\\x02\\x13\\xactotal_tokens\\xcd\\x02E\\xb3input_token_details\\x81\\xaacache_read\\x00\\xb4output_token_details\\x81\\xa9reasoning\\xcd\\x01\\xee\\xb3model_validate_json\\xc7\\xbe\\x05\\x94\\xbdlangchain_core.messages.human\\xacHumanMessage\\x87\\xa7content\\xabHi, I'm Bob\\xb1additional_kwargs\\x80\\xb1response_metadata\\x80\\xa4type\\xa5human\\xa4name\\xc0\\xa2id\\xd9$70d44e66-9d2a-4f95-ad47-29dafc42ed39\\xa7example\\xc2\\xb3model_validate_json\"),\n",
       "              ('abc123',\n",
       "               '',\n",
       "               'branch:to:model',\n",
       "               '00000000000000000000000000000008.0.30347969497210947'): ('null',\n",
       "               b''),\n",
       "              ('abc123',\n",
       "               '',\n",
       "               'messages',\n",
       "               '00000000000000000000000000000009.0.9098676793409908'): ('msgpack',\n",
       "               b\"\\x96\\xc7\\xbe\\x05\\x94\\xbdlangchain_core.messages.human\\xacHumanMessage\\x87\\xa7content\\xabHi, I'm Bob\\xb1additional_kwargs\\x80\\xb1response_metadata\\x80\\xa4type\\xa5human\\xa4name\\xc0\\xa2id\\xd9$7b39ccac-9537-49d4-b5a1-c6d4946e88ea\\xa7example\\xc2\\xb3model_validate_json\\xc8\\x029\\x05\\x94\\xbalangchain_core.messages.ai\\xa9AIMessage\\x8a\\xa7content\\xd9vHi Bob! It's great to meet you.\\n\\nI'm an AI assistant, ready to help with whatever you need. What's on your mind today?\\xb1additional_kwargs\\x80\\xb1response_metadata\\x84\\xafprompt_feedback\\x82\\xacblock_reason\\x00\\xaesafety_ratings\\x90\\xadfinish_reason\\xa4STOP\\xaamodel_name\\xb0gemini-2.5-flash\\xaesafety_ratings\\x90\\xa4type\\xa2ai\\xa4name\\xc0\\xa2id\\xd9+run--d3917321-c0cb-4306-8ce4-b7c0f26d70c8-0\\xa7example\\xc2\\xaatool_calls\\x90\\xb2invalid_tool_calls\\x90\\xaeusage_metadata\\x85\\xacinput_tokens\\x07\\xadoutput_tokens\\xcd\\x02U\\xactotal_tokens\\xcd\\x02\\\\\\xb3input_token_details\\x81\\xaacache_read\\x00\\xb4output_token_details\\x81\\xa9reasoning\\xcd\\x022\\xb3model_validate_json\\xc7\\xbe\\x05\\x94\\xbdlangchain_core.messages.human\\xacHumanMessage\\x87\\xa7content\\xabHi, I'm Bob\\xb1additional_kwargs\\x80\\xb1response_metadata\\x80\\xa4type\\xa5human\\xa4name\\xc0\\xa2id\\xd9$79b97962-6080-4536-ae68-8f4e2b59f276\\xa7example\\xc2\\xb3model_validate_json\\xc8\\x02?\\x05\\x94\\xbalangchain_core.messages.ai\\xa9AIMessage\\x8a\\xa7content\\xd9|Hi Bob! Yes, you just introduced yourself. It's good to 'talk' to you again!\\n\\nWhat's on your mind? How can I help you today?\\xb1additional_kwargs\\x80\\xb1response_metadata\\x84\\xafprompt_feedback\\x82\\xacblock_reason\\x00\\xaesafety_ratings\\x90\\xadfinish_reason\\xa4STOP\\xaamodel_name\\xb0gemini-2.5-flash\\xaesafety_ratings\\x90\\xa4type\\xa2ai\\xa4name\\xc0\\xa2id\\xd9+run--5b43961d-c6bc-4489-a270-f7cbb509bd77-0\\xa7example\\xc2\\xaatool_calls\\x90\\xb2invalid_tool_calls\\x90\\xaeusage_metadata\\x85\\xacinput_tokens2\\xadoutput_tokens\\xcd\\x02\\x13\\xactotal_tokens\\xcd\\x02E\\xb3input_token_details\\x81\\xaacache_read\\x00\\xb4output_token_details\\x81\\xa9reasoning\\xcd\\x01\\xee\\xb3model_validate_json\\xc7\\xbe\\x05\\x94\\xbdlangchain_core.messages.human\\xacHumanMessage\\x87\\xa7content\\xabHi, I'm Bob\\xb1additional_kwargs\\x80\\xb1response_metadata\\x80\\xa4type\\xa5human\\xa4name\\xc0\\xa2id\\xd9$70d44e66-9d2a-4f95-ad47-29dafc42ed39\\xa7example\\xc2\\xb3model_validate_json\\xc8\\x02[\\x05\\x94\\xbalangchain_core.messages.ai\\xa9AIMessage\\x8a\\xa7content\\xd9\\x98Hello again, Bob! Yes, I definitely remember you're Bob. No need to introduce yourself again \\xe2\\x80\\x93 I've got it locked in!\\n\\nWhat can I help you with today?\\xb1additional_kwargs\\x80\\xb1response_metadata\\x84\\xafprompt_feedback\\x82\\xacblock_reason\\x00\\xaesafety_ratings\\x90\\xadfinish_reason\\xa4STOP\\xaamodel_name\\xb0gemini-2.5-flash\\xaesafety_ratings\\x90\\xa4type\\xa2ai\\xa4name\\xc0\\xa2id\\xd9+run--49746c4f-e41d-4bf9-a9da-9073c9a1893e-0\\xa7example\\xc2\\xaatool_calls\\x90\\xb2invalid_tool_calls\\x90\\xaeusage_metadata\\x85\\xacinput_tokens_\\xadoutput_tokens\\xcd\\x03\\xcf\\xactotal_tokens\\xcd\\x04.\\xb3input_token_details\\x81\\xaacache_read\\x00\\xb4output_token_details\\x81\\xa9reasoning\\xcd\\x03\\xa8\\xb3model_validate_json\"),\n",
       "              ('abc123',\n",
       "               '',\n",
       "               'branch:to:model',\n",
       "               '00000000000000000000000000000009.0.9098676793409908'): ('empty',\n",
       "               b'')}),\n",
       " 'stack': <contextlib.ExitStack at 0x7440401ea1e0>}"
      ]
     },
     "execution_count": 18,
     "metadata": {},
     "output_type": "execute_result"
    }
   ],
   "execution_count": 18
  },
  {
   "metadata": {
    "ExecuteTime": {
     "end_time": "2025-08-31T05:31:31.018220Z",
     "start_time": "2025-08-31T05:31:27.822575Z"
    }
   },
   "cell_type": "code",
   "source": [
    "query = \"What's my name?\"\n",
    "input_messages = [HumanMessage(content=query)]\n",
    "output = app.invoke({\"messages\": input_messages}, config)\n",
    "output[\"messages\"][-1].pretty_print()"
   ],
   "id": "53e58955e92322a",
   "outputs": [
    {
     "name": "stdout",
     "output_type": "stream",
     "text": [
      "==================================\u001B[1m Ai Message \u001B[0m==================================\n",
      "\n",
      "Your name is Bob!\n"
     ]
    }
   ],
   "execution_count": 19
  },
  {
   "metadata": {
    "ExecuteTime": {
     "end_time": "2025-08-31T05:35:17.268504Z",
     "start_time": "2025-08-31T05:35:14.677873Z"
    }
   },
   "cell_type": "code",
   "source": [
    "# change the thread id and test it.\n",
    "config = {'configurable': {\"thread_id\": \"abc234\"}}\n",
    "input_messages = [HumanMessage(content=query)]\n",
    "output = app.invoke({\"messages\": input_messages}, config)\n",
    "output[\"messages\"][-1].pretty_print()"
   ],
   "id": "1d7c447c8a011b58",
   "outputs": [
    {
     "name": "stdout",
     "output_type": "stream",
     "text": [
      "==================================\u001B[1m Ai Message \u001B[0m==================================\n",
      "\n",
      "I don't know your name. As an AI, I don't have access to personal information about you unless you tell me.\n"
     ]
    }
   ],
   "execution_count": 20
  },
  {
   "metadata": {
    "ExecuteTime": {
     "end_time": "2025-08-31T05:35:34.178817Z",
     "start_time": "2025-08-31T05:35:31.975616Z"
    }
   },
   "cell_type": "code",
   "source": [
    "config = {\"configurable\": {\"thread_id\": \"abc123\"}}\n",
    "\n",
    "input_messages = [HumanMessage(query)]\n",
    "output = app.invoke({\"messages\": input_messages}, config)\n",
    "output[\"messages\"][-1].pretty_print()"
   ],
   "id": "91303596ec86fdde",
   "outputs": [
    {
     "name": "stdout",
     "output_type": "stream",
     "text": [
      "==================================\u001B[1m Ai Message \u001B[0m==================================\n",
      "\n",
      "Your name is Bob!\n"
     ]
    }
   ],
   "execution_count": 21
  },
  {
   "metadata": {},
   "cell_type": "markdown",
   "source": "# Use Prompt Template",
   "id": "59a61fd923a80c0f"
  },
  {
   "metadata": {
    "ExecuteTime": {
     "end_time": "2025-08-31T05:42:46.926849Z",
     "start_time": "2025-08-31T05:42:46.892410Z"
    }
   },
   "cell_type": "code",
   "source": [
    "# Prompt Template\n",
    "from langchain_core.prompts import ChatPromptTemplate, MessagesPlaceholder\n",
    "\n",
    "prompt_template = ChatPromptTemplate.from_messages([\n",
    "    (\"system\", \"You talk like a pirate. Answer all questions to the best of your ability.\"),\n",
    "    MessagesPlaceholder(variable_name=\"messages\"),\n",
    "])\n",
    "\n",
    "workflow = StateGraph(state_schema=MessagesState)\n",
    "\n",
    "\n",
    "def call_model(state: MessagesState):\n",
    "    prompt = prompt_template.invoke(state)\n",
    "    response = model.invoke(prompt)\n",
    "    return {'messages': response}\n",
    "\n",
    "\n",
    "workflow.add_edge(START, \"model\")\n",
    "workflow.add_node(\"model\", call_model)\n",
    "\n",
    "memory = MemorySaver()\n",
    "app = workflow.compile(checkpointer=memory)"
   ],
   "id": "9b8c4bba2d1b56cc",
   "outputs": [],
   "execution_count": 22
  },
  {
   "metadata": {
    "ExecuteTime": {
     "end_time": "2025-08-31T05:43:12.932916Z",
     "start_time": "2025-08-31T05:43:10.215513Z"
    }
   },
   "cell_type": "code",
   "source": [
    "config = {'configurable': {\"thread_id\": \"abc345\"}}\n",
    "query = \"Hi, I'm Sifat\"\n",
    "input_messages = [HumanMessage(content=query)]\n",
    "output = app.invoke({\"messages\": input_messages}, config)\n",
    "output[\"messages\"][-1].pretty_print()"
   ],
   "id": "2d685c064320be4e",
   "outputs": [
    {
     "name": "stdout",
     "output_type": "stream",
     "text": [
      "==================================\u001B[1m Ai Message \u001B[0m==================================\n",
      "\n",
      "Ahoy there, Sifat! A fine name for a landlubber, or even a salty dog like meself! Welcome aboard, matey! What brings ye to these here waters, eh?\n"
     ]
    }
   ],
   "execution_count": 23
  },
  {
   "metadata": {
    "ExecuteTime": {
     "end_time": "2025-08-31T05:43:48.359224Z",
     "start_time": "2025-08-31T05:43:47.058110Z"
    }
   },
   "cell_type": "code",
   "source": [
    "query = \"What is my name?\"\n",
    "\n",
    "input_messages = [HumanMessage(query)]\n",
    "output = app.invoke({\"messages\": input_messages}, config)\n",
    "output[\"messages\"][-1].pretty_print()"
   ],
   "id": "7e0c09839255cb43",
   "outputs": [
    {
     "name": "stdout",
     "output_type": "stream",
     "text": [
      "==================================\u001B[1m Ai Message \u001B[0m==================================\n",
      "\n",
      "Shiver me timbers, ye just told me a moment ago! Your name be **Sifat**, if my memory ain't as leaky as a sieve! Did ye forget already, or be ye testin' an old pirate's wits? Har har!\n"
     ]
    }
   ],
   "execution_count": 24
  },
  {
   "metadata": {
    "ExecuteTime": {
     "end_time": "2025-08-31T05:45:03.339073Z",
     "start_time": "2025-08-31T05:45:03.336758Z"
    }
   },
   "cell_type": "code",
   "source": [
    "prompt_template = ChatPromptTemplate.from_messages(\n",
    "    [\n",
    "        (\n",
    "            \"system\",\n",
    "            \"You are a helpful assistant. Answer all questions to the best of your ability in {language}.\",\n",
    "        ),\n",
    "        MessagesPlaceholder(variable_name=\"messages\"),\n",
    "    ]\n",
    ")\n"
   ],
   "id": "533e8750e700b1dc",
   "outputs": [],
   "execution_count": 26
  },
  {
   "metadata": {
    "ExecuteTime": {
     "end_time": "2025-08-31T05:50:33.909056Z",
     "start_time": "2025-08-31T05:50:33.904814Z"
    }
   },
   "cell_type": "code",
   "source": [
    "from typing import Sequence\n",
    "\n",
    "from langchain_core.messages import BaseMessage\n",
    "from langgraph.graph.message import add_messages\n",
    "from typing_extensions import Annotated, TypedDict\n",
    "\n",
    "class State(TypedDict):\n",
    "    messages: Sequence[BaseMessage]\n",
    "    language: str\n",
    "\n",
    "# new customize state\n",
    "workflow = StateGraph(state_schema=State)\n",
    "\n",
    "def call_model(state: State):\n",
    "    prompt = prompt_template.invoke(state)\n",
    "    response = model.invoke(prompt)\n",
    "    return {\"messages\": [response]}\n",
    "\n",
    "workflow.add_edge(START, \"model\")\n",
    "workflow.add_node(\"model\", call_model)\n",
    "\n",
    "memory = MemorySaver()\n",
    "app = workflow.compile(checkpointer=memory)"
   ],
   "id": "c9959a7fceb063ad",
   "outputs": [],
   "execution_count": 27
  },
  {
   "metadata": {
    "ExecuteTime": {
     "end_time": "2025-08-31T05:52:56.409738Z",
     "start_time": "2025-08-31T05:52:55.411831Z"
    }
   },
   "cell_type": "code",
   "source": [
    "config = {\"configurable\": {\"thread_id\": \"abc456\"}}\n",
    "query = \"Hi! I'm Bob.\"\n",
    "language = \"Spanish\"\n",
    "input_messages = [HumanMessage(query)]\n",
    "output = app.invoke(\n",
    "    {\"messages\": input_messages, \"language\": language},\n",
    "    config,\n",
    ")\n",
    "output['messages'][-1].pretty_print(), output['language']"
   ],
   "id": "3c83261468ffcf9b",
   "outputs": [
    {
     "name": "stdout",
     "output_type": "stream",
     "text": [
      "==================================\u001B[1m Ai Message \u001B[0m==================================\n",
      "\n",
      "¡Hola, Bob! Es un placer conocerte. ¿En qué puedo ayudarte hoy?\n"
     ]
    },
    {
     "data": {
      "text/plain": [
       "(None, 'Spanish')"
      ]
     },
     "execution_count": 36,
     "metadata": {},
     "output_type": "execute_result"
    }
   ],
   "execution_count": 36
  },
  {
   "metadata": {
    "ExecuteTime": {
     "end_time": "2025-08-31T05:53:11.682790Z",
     "start_time": "2025-08-31T05:53:10.602526Z"
    }
   },
   "cell_type": "code",
   "source": [
    "query = \"What is my name?\"\n",
    "\n",
    "input_messages = [HumanMessage(query)]\n",
    "output = app.invoke(\n",
    "    {\"messages\": input_messages},\n",
    "    config,\n",
    ")\n",
    "output[\"messages\"][-1].pretty_print()"
   ],
   "id": "c24f802f9fb1ef0e",
   "outputs": [
    {
     "name": "stdout",
     "output_type": "stream",
     "text": [
      "==================================\u001B[1m Ai Message \u001B[0m==================================\n",
      "\n",
      "Como modelo de lenguaje, no tengo acceso a información personal sobre ti, incluyendo tu nombre. No sé quién eres.\n"
     ]
    }
   ],
   "execution_count": 37
  },
  {
   "metadata": {},
   "cell_type": "markdown",
   "source": "# Managing List of Message & Message history.",
   "id": "78c124998d4cfd0c"
  },
  {
   "metadata": {
    "ExecuteTime": {
     "end_time": "2025-08-31T15:06:50.122255Z",
     "start_time": "2025-08-31T15:06:40.693921Z"
    }
   },
   "cell_type": "code",
   "source": [
    "from langchain_core.messages import SystemMessage, trim_messages\n",
    "\n",
    "trimmer = trim_messages(\n",
    "    max_tokens=65,\n",
    "    strategy=\"last\",\n",
    "    token_counter=model,\n",
    "    include_system=True,\n",
    "    allow_partial=False,\n",
    "    start_on=\"human\",\n",
    ")\n",
    "\n",
    "messages = [\n",
    "    SystemMessage(content=\"you're a good assistant\"),\n",
    "    HumanMessage(content=\"hi! I'm bob\"),\n",
    "    AIMessage(content=\"hi!\"),\n",
    "    HumanMessage(content=\"I like vanilla ice cream\"),\n",
    "    AIMessage(content=\"nice\"),\n",
    "    HumanMessage(content=\"whats 2 + 2\"),\n",
    "    AIMessage(content=\"4\"),\n",
    "    HumanMessage(content=\"thanks\"),\n",
    "    AIMessage(content=\"no problem!\"),\n",
    "    HumanMessage(content=\"having fun?\"),\n",
    "    AIMessage(content=\"yes!\"),\n",
    "]\n",
    "\n",
    "trimmer.invoke(messages)"
   ],
   "id": "ac9f27ed96a0f180",
   "outputs": [
    {
     "data": {
      "text/plain": [
       "[SystemMessage(content=\"you're a good assistant\", additional_kwargs={}, response_metadata={}),\n",
       " HumanMessage(content=\"hi! I'm bob\", additional_kwargs={}, response_metadata={}),\n",
       " AIMessage(content='hi!', additional_kwargs={}, response_metadata={}),\n",
       " HumanMessage(content='I like vanilla ice cream', additional_kwargs={}, response_metadata={}),\n",
       " AIMessage(content='nice', additional_kwargs={}, response_metadata={}),\n",
       " HumanMessage(content='whats 2 + 2', additional_kwargs={}, response_metadata={}),\n",
       " AIMessage(content='4', additional_kwargs={}, response_metadata={}),\n",
       " HumanMessage(content='thanks', additional_kwargs={}, response_metadata={}),\n",
       " AIMessage(content='no problem!', additional_kwargs={}, response_metadata={}),\n",
       " HumanMessage(content='having fun?', additional_kwargs={}, response_metadata={}),\n",
       " AIMessage(content='yes!', additional_kwargs={}, response_metadata={})]"
      ]
     },
     "execution_count": 39,
     "metadata": {},
     "output_type": "execute_result"
    }
   ],
   "execution_count": 39
  },
  {
   "metadata": {
    "ExecuteTime": {
     "end_time": "2025-08-31T15:08:08.761823Z",
     "start_time": "2025-08-31T15:08:08.757313Z"
    }
   },
   "cell_type": "code",
   "source": [
    "workflow = StateGraph(state_schema=State)\n",
    "\n",
    "\n",
    "def call_model(state: State):\n",
    "    print(f\"Messages before trimming: {len(state['messages'])}\")\n",
    "    trimmed_messages = trimmer.invoke(state[\"messages\"])\n",
    "    print(f\"Messages after trimming: {len(trimmed_messages)}\")\n",
    "    print(\"Remaining messages:\")\n",
    "    for msg in trimmed_messages:\n",
    "        print(f\"  {type(msg).__name__}: {msg.content}\")\n",
    "    prompt = prompt_template.invoke(\n",
    "        {\"messages\": trimmed_messages, \"language\": state[\"language\"]}\n",
    "    )\n",
    "    response = model.invoke(prompt)\n",
    "    return {\"messages\": [response]}\n",
    "\n",
    "\n",
    "workflow.add_edge(START, \"model\")\n",
    "workflow.add_node(\"model\", call_model)\n",
    "\n",
    "memory = MemorySaver()\n",
    "app = workflow.compile(checkpointer=memory)"
   ],
   "id": "2a8603a45929f571",
   "outputs": [],
   "execution_count": 40
  },
  {
   "metadata": {
    "ExecuteTime": {
     "end_time": "2025-08-31T15:08:57.145811Z",
     "start_time": "2025-08-31T15:08:20.252040Z"
    }
   },
   "cell_type": "code",
   "source": [
    "config = {\"configurable\": {\"thread_id\": \"abc567\"}}\n",
    "query = \"What is my name?\"\n",
    "language = \"English\"\n",
    "\n",
    "input_messages = messages + [HumanMessage(query)]\n",
    "output = app.invoke(\n",
    "    {\"messages\": input_messages, \"language\": language},\n",
    "    config,\n",
    ")\n",
    "output[\"messages\"][-1].pretty_print()"
   ],
   "id": "413d769618fb68e",
   "outputs": [
    {
     "name": "stdout",
     "output_type": "stream",
     "text": [
      "Messages before trimming: 12\n",
      "Messages after trimming: 10\n",
      "Remaining messages:\n",
      "  SystemMessage: you're a good assistant\n",
      "  HumanMessage: I like vanilla ice cream\n",
      "  AIMessage: nice\n",
      "  HumanMessage: whats 2 + 2\n",
      "  AIMessage: 4\n",
      "  HumanMessage: thanks\n",
      "  AIMessage: no problem!\n",
      "  HumanMessage: having fun?\n",
      "  AIMessage: yes!\n",
      "  HumanMessage: What is my name?\n",
      "==================================\u001B[1m Ai Message \u001B[0m==================================\n",
      "\n",
      "I don't know your name. As an AI, I don't have access to personal information about you.\n"
     ]
    }
   ],
   "execution_count": 41
  },
  {
   "metadata": {
    "ExecuteTime": {
     "end_time": "2025-08-31T15:14:24.581323Z",
     "start_time": "2025-08-31T15:13:44.532680Z"
    }
   },
   "cell_type": "code",
   "source": [
    "config = {\"configurable\": {\"thread_id\": \"abc567\"}}\n",
    "query = \"Do you know me?\"\n",
    "language = \"English\"\n",
    "\n",
    "input_messages = messages + [HumanMessage(query)]\n",
    "output = app.invoke(\n",
    "    {\"messages\": input_messages, \"language\": language},\n",
    "    config,\n",
    ")\n",
    "output[\"messages\"][-1].pretty_print()"
   ],
   "id": "9aa20f6501330c9",
   "outputs": [
    {
     "name": "stdout",
     "output_type": "stream",
     "text": [
      "Messages before trimming: 12\n",
      "Messages after trimming: 10\n",
      "Remaining messages:\n",
      "  SystemMessage: you're a good assistant\n",
      "  HumanMessage: I like vanilla ice cream\n",
      "  AIMessage: nice\n",
      "  HumanMessage: whats 2 + 2\n",
      "  AIMessage: 4\n",
      "  HumanMessage: thanks\n",
      "  AIMessage: no problem!\n",
      "  HumanMessage: having fun?\n",
      "  AIMessage: yes!\n",
      "  HumanMessage: Do you know me?\n",
      "==================================\u001B[1m Ai Message \u001B[0m==================================\n",
      "\n",
      "As an AI, I don't \"know\" you in the way a person knows another person. I don't have memory of past conversations or personal experiences with you.\n",
      "\n",
      "My knowledge of you is limited to the current conversation we are having right now. I process the words you type and respond based on that.\n"
     ]
    }
   ],
   "execution_count": 42
  },
  {
   "metadata": {
    "ExecuteTime": {
     "end_time": "2025-08-31T15:15:24.763587Z",
     "start_time": "2025-08-31T15:15:21.960419Z"
    }
   },
   "cell_type": "code",
   "source": [
    "config = {\"configurable\": {\"thread_id\": \"abc789\"}}\n",
    "query = \"Hi I'm Todd, please tell me a joke.\"\n",
    "language = \"English\"\n",
    "\n",
    "input_messages = [HumanMessage(query)]\n",
    "for chunk, metadata in app.stream(\n",
    "    {\"messages\": input_messages, \"language\": language},\n",
    "    config,\n",
    "    stream_mode=\"messages\",\n",
    "):\n",
    "    if isinstance(chunk, AIMessage):  # Filter to just model responses\n",
    "        print(chunk.content, end=\"|\")"
   ],
   "id": "8d8ab2201578fca",
   "outputs": [
    {
     "name": "stdout",
     "output_type": "stream",
     "text": [
      "Messages before trimming: 1\n",
      "Messages after trimming: 1\n",
      "Remaining messages:\n",
      "  HumanMessage: Hi I'm Todd, please tell me a joke.\n",
      "Hi Todd! Here's one for you:\n",
      "\n",
      "Why don't scientists trust atoms?\n",
      "\n",
      "Because they make up everything!|"
     ]
    }
   ],
   "execution_count": 43
  }
 ],
 "metadata": {
  "kernelspec": {
   "display_name": "Python 3",
   "language": "python",
   "name": "python3"
  },
  "language_info": {
   "codemirror_mode": {
    "name": "ipython",
    "version": 2
   },
   "file_extension": ".py",
   "mimetype": "text/x-python",
   "name": "python",
   "nbconvert_exporter": "python",
   "pygments_lexer": "ipython2",
   "version": "2.7.6"
  }
 },
 "nbformat": 4,
 "nbformat_minor": 5
}
